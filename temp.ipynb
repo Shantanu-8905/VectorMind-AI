{
 "cells": [
  {
   "cell_type": "code",
   "execution_count": 1,
   "id": "e8382fa4",
   "metadata": {},
   "outputs": [
    {
     "name": "stderr",
     "output_type": "stream",
     "text": [
      "c:\\DRIVE\\Projects\\New AI bot\\.venv\\Lib\\site-packages\\tqdm\\auto.py:21: TqdmWarning: IProgress not found. Please update jupyter and ipywidgets. See https://ipywidgets.readthedocs.io/en/stable/user_install.html\n",
      "  from .autonotebook import tqdm as notebook_tqdm\n"
     ]
    }
   ],
   "source": [
    "import faiss\n",
    "import os\n",
    "import numpy as np\n",
    "from sentence_transformers import SentenceTransformer\n",
    "from nltk.tokenize import word_tokenize\n",
    "import nltk\n",
    "import pickle"
   ]
  },
  {
   "cell_type": "code",
   "execution_count": null,
   "id": "a746238a",
   "metadata": {},
   "outputs": [],
   "source": [
    "# Download tokenizer model\n",
    "nltk.download('punkt')\n",
    "\n",
    "# Sample dataset\n",
    "documents = [\n",
    "    \"AI is transforming the world.\",\n",
    "    \"Machine learning enables systems to learn from data.\",\n",
    "    \"Natural Language Processing deals with human language.\",\n",
    "    \"Deep learning is a subset of machine learning.\"\n",
    "]\n",
    "\n",
    "# Tokenization and display\n",
    "tokenized_docs = [word_tokenize(doc.lower()) for doc in documents]\n",
    "print(\"Tokenized documents:\")\n",
    "for i, tokens in enumerate(tokenized_docs):\n",
    "    print(f\"Doc {i+1}: {tokens}\")\n",
    "\n",
    "# Convert text to embeddings\n",
    "model = SentenceTransformer('all-MiniLM-L6-v2')\n",
    "embeddings = model.encode(documents)\n",
    "\n",
    "# Create FAISS index\n",
    "dimension = embeddings.shape[1]\n",
    "index = faiss.IndexFlatL2(dimension)  # L2 distance index\n",
    "index.add(np.array(embeddings))\n",
    "\n",
    "# Save FAISS index and metadata\n",
    "faiss.write_index(index, \"faiss_index.index\")\n",
    "with open(\"doc_metadata.pkl\", \"wb\") as f:\n",
    "    pickle.dump(documents, f)\n",
    "\n",
    "print(\"\\nFAISS index and document metadata saved locally.\")\n",
    "\n",
    "# Reload FAISS index and metadata for verification\n",
    "reloaded_index = faiss.read_index(\"faiss_index.index\")\n",
    "with open(\"doc_metadata.pkl\", \"rb\") as f:\n",
    "    reloaded_docs = pickle.load(f)\n",
    "\n",
    "# Query example\n",
    "query = \"AI and deep learning\"\n",
    "query_embedding = model.encode([query])\n",
    "D, I = reloaded_index.search(np.array(query_embedding), k=2)\n",
    "\n",
    "print(\"\\nQuery results:\")\n",
    "for idx, dist in zip(I[0], D[0]):\n",
    "    print(f\"Matched Doc: {reloaded_docs[idx]} (Distance: {dist:.4f})\")\n"
   ]
  }
 ],
 "metadata": {
  "kernelspec": {
   "display_name": ".venv",
   "language": "python",
   "name": "python3"
  },
  "language_info": {
   "codemirror_mode": {
    "name": "ipython",
    "version": 3
   },
   "file_extension": ".py",
   "mimetype": "text/x-python",
   "name": "python",
   "nbconvert_exporter": "python",
   "pygments_lexer": "ipython3",
   "version": "3.11.8"
  }
 },
 "nbformat": 4,
 "nbformat_minor": 5
}
